{
 "cells": [
  {
   "cell_type": "code",
   "execution_count": 2,
   "id": "7e66fdc1-0594-4af3-bb06-b917238f0e8a",
   "metadata": {},
   "outputs": [],
   "source": [
    "my_list = [\"Maryam\", \"Amanda\", \"Ahmad\", \"Jane\", \"Chioma\"]"
   ]
  },
  {
   "cell_type": "code",
   "execution_count": 4,
   "id": "61101f16-ae6a-4ad4-bac7-1e7407320b18",
   "metadata": {},
   "outputs": [
    {
     "name": "stdout",
     "output_type": "stream",
     "text": [
      "['Maryam', 'Amanda', 'Ahmad', 'Jane', 'Chioma']\n"
     ]
    }
   ],
   "source": [
    "print(my_list)"
   ]
  },
  {
   "cell_type": "code",
   "execution_count": null,
   "id": "5b82292e-b13d-4160-9707-7ae522ca8ae3",
   "metadata": {},
   "outputs": [],
   "source": []
  }
 ],
 "metadata": {
  "kernelspec": {
   "display_name": "Python [conda env:base] *",
   "language": "python",
   "name": "conda-base-py"
  },
  "language_info": {
   "codemirror_mode": {
    "name": "ipython",
    "version": 3
   },
   "file_extension": ".py",
   "mimetype": "text/x-python",
   "name": "python",
   "nbconvert_exporter": "python",
   "pygments_lexer": "ipython3",
   "version": "3.12.7"
  }
 },
 "nbformat": 4,
 "nbformat_minor": 5
}
