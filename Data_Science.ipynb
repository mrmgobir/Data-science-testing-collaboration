{
 "cells": [
  {
   "cell_type": "code",
   "execution_count": 2,
   "id": "8eef2de7-506f-4401-839d-ee1e30cca925",
   "metadata": {},
   "outputs": [],
   "source": [
    "my_tuple = (\"Hauwa\", \"Ife\", \"Ella\", \"Ali\", \"Joy\")"
   ]
  },
  {
   "cell_type": "code",
   "execution_count": 4,
   "id": "e2754a66-0145-4d54-b328-9da3d32fa443",
   "metadata": {},
   "outputs": [
    {
     "name": "stdout",
     "output_type": "stream",
     "text": [
      "('Hauwa', 'Ife', 'Ella', 'Ali', 'Joy')\n"
     ]
    }
   ],
   "source": [
    "print(my_tuple)"
   ]
  },
  {
   "cell_type": "code",
   "execution_count": null,
   "id": "c328ed34-9968-40b6-978b-2c3c204bb7d2",
   "metadata": {},
   "outputs": [],
   "source": []
  }
 ],
 "metadata": {
  "kernelspec": {
   "display_name": "Python [conda env:base] *",
   "language": "python",
   "name": "conda-base-py"
  },
  "language_info": {
   "codemirror_mode": {
    "name": "ipython",
    "version": 3
   },
   "file_extension": ".py",
   "mimetype": "text/x-python",
   "name": "python",
   "nbconvert_exporter": "python",
   "pygments_lexer": "ipython3",
   "version": "3.12.7"
  }
 },
 "nbformat": 4,
 "nbformat_minor": 5
}
